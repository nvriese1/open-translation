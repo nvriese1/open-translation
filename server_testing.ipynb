{
 "cells": [
  {
   "cell_type": "markdown",
   "metadata": {},
   "source": [
    "### Test Backend Microservice(s)"
   ]
  },
  {
   "cell_type": "markdown",
   "metadata": {},
   "source": [
    "Following build and deployment, this notebook can be used to test various endpoints while the application is running."
   ]
  },
  {
   "cell_type": "code",
   "execution_count": 28,
   "metadata": {},
   "outputs": [
    {
     "name": "stdout",
     "output_type": "stream",
     "text": [
      "Response Status: 200\n",
      "\n",
      "{'text': 'Hello there, how are ya!', 'metadata': {'source_language': 'en', 'target_language': 'en', 'translate_to': 'auto', 'translation_needed': False}}\n"
     ]
    }
   ],
   "source": [
    "import os\n",
    "import requests\n",
    "import json\n",
    "from typing import *\n",
    "\n",
    "# Headers\n",
    "token = \"ExampleToken\"\n",
    "headers = {\n",
    "    'Content-Type': 'application/json',\n",
    "    'Authorization': f'Bearer {token}',\n",
    "}\n",
    "\n",
    "# Specify payload\n",
    "payload = {\n",
    "    'text': \"Hello there, how are ya!\",\n",
    "    'translate_to': \"auto\",\n",
    "    'reconstruct_formatting': False,\n",
    "}\n",
    "\n",
    "url = 'http://localhost:8080/detect_translate'\n",
    "\n",
    "# Send request / get response\n",
    "response = requests.post(url, headers=headers, data=json.dumps(payload))\n",
    "print(f'Response Status: {response.status_code}\\n')\n",
    "print(response.json())"
   ]
  },
  {
   "cell_type": "code",
   "execution_count": 29,
   "metadata": {},
   "outputs": [
    {
     "data": {
      "text/plain": [
       "[{'translation_text': 'en Hello, we have tried to inform you about the extended warranty of your car.'}]"
      ]
     },
     "execution_count": 29,
     "metadata": {},
     "output_type": "execute_result"
    }
   ],
   "source": [
    "import requests\n",
    "\n",
    "API_URL = \"https://ntl67ircuj8f5mc5.us-east4.gcp.endpoints.huggingface.cloud\"\n",
    "headers = {\n",
    "\t\"Accept\" : \"application/json\",\n",
    "\t\"Content-Type\": \"application/json\" \n",
    "}\n",
    "\n",
    "def query(payload):\n",
    "\tresponse = requests.post(API_URL, headers=headers, json=payload)\n",
    "\treturn response.json()\n",
    "\n",
    "output = query({\n",
    "\t\"inputs\": \"Bonjour, nous avons essayé de vous renseigner sur la garantie prolongée de votre voiture.\",\n",
    "\t\"parameters\": {\n",
    "\t\t\"return_text\": True,\n",
    "\t\t\"return_tensors\": False,\n",
    "\t\t\"src_lang\": \"fr\",\n",
    "\t\t\"tgt_lang\": \"en\"\n",
    "\t}\n",
    "})\n",
    "\n",
    "output"
   ]
  },
  {
   "cell_type": "code",
   "execution_count": null,
   "metadata": {},
   "outputs": [],
   "source": []
  }
 ],
 "metadata": {
  "kernelspec": {
   "display_name": "cv",
   "language": "python",
   "name": "python3"
  },
  "language_info": {
   "codemirror_mode": {
    "name": "ipython",
    "version": 3
   },
   "file_extension": ".py",
   "mimetype": "text/x-python",
   "name": "python",
   "nbconvert_exporter": "python",
   "pygments_lexer": "ipython3",
   "version": "3.10.14"
  },
  "orig_nbformat": 4
 },
 "nbformat": 4,
 "nbformat_minor": 2
}
